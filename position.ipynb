{
 "cells": [
  {
   "cell_type": "code",
   "execution_count": 2,
   "metadata": {},
   "outputs": [],
   "source": [
    "import numpy as np\n",
    "import matplotlib.pyplot as plt\n",
    "import pandas as pd\n",
    "import seaborn as sns\n",
    "from scipy.misc.pilutil import imread\n",
    "import matplotlib.cm as cm\n",
    "import math"
   ]
  },
  {
   "cell_type": "code",
   "execution_count": 3,
   "metadata": {},
   "outputs": [],
   "source": [
    "# Load the data and read as the csv\n",
    "deaths1 = pd.read_csv(\"pubg-match-deaths-dataset/deaths/kill_match_stats_final_0.csv\")\n",
    "deaths2 = pd.read_csv(\"pubg-match-deaths-dataset/deaths/kill_match_stats_final_1.csv\")"
   ]
  },
  {
   "cell_type": "code",
   "execution_count": 5,
   "metadata": {},
   "outputs": [],
   "source": [
    "# conbine the csvfiles\n",
    "deaths = pd.concat([deaths1, deaths2])"
   ]
  },
  {
   "cell_type": "code",
   "execution_count": 6,
   "metadata": {},
   "outputs": [
    {
     "name": "stdout",
     "output_type": "stream",
     "text": [
      "      killed_by       killer_name  killer_placement  killer_position_x  \\\n",
      "0       Grenade   KrazyPortuguese               5.0          657725.10   \n",
      "1        SCAR-L  nide2Bxiaojiejie              31.0           93091.37   \n",
      "2          S686          Ascholes              43.0          366921.40   \n",
      "3  Down and Out        Weirdo7777               9.0          472014.20   \n",
      "4          M416         Solayuki1               9.0          473357.80   \n",
      "\n",
      "   killer_position_y      map  \\\n",
      "0           146275.2  MIRAMAR   \n",
      "1           722236.4  MIRAMAR   \n",
      "2           421623.9  MIRAMAR   \n",
      "3           313274.8  MIRAMAR   \n",
      "4           318340.5  MIRAMAR   \n",
      "\n",
      "                                            match_id  time      victim_name  \\\n",
      "0  2U4GBNA0YmnLSqvEycnTjo-KT000vfUnhSA2vfVhVPe1QB...   823  KrazyPortuguese   \n",
      "1  2U4GBNA0YmnLSqvEycnTjo-KT000vfUnhSA2vfVhVPe1QB...   194      X3evolution   \n",
      "2  2U4GBNA0YmnLSqvEycnTjo-KT000vfUnhSA2vfVhVPe1QB...   103          CtrlZee   \n",
      "3  2U4GBNA0YmnLSqvEycnTjo-KT000vfUnhSA2vfVhVPe1QB...  1018        BlackDpre   \n",
      "4  2U4GBNA0YmnLSqvEycnTjo-KT000vfUnhSA2vfVhVPe1QB...  1018            Vjolt   \n",
      "\n",
      "   victim_placement  victim_position_x  victim_position_y  \n",
      "0               5.0          657725.10           146275.2  \n",
      "1              33.0           92238.68           723375.1  \n",
      "2              46.0          367304.50           421216.1  \n",
      "3              13.0          476645.90           316758.4  \n",
      "4              13.0          473588.50           318418.8   \n",
      " 26867237\n"
     ]
    }
   ],
   "source": [
    "# print the first 5 line\n",
    "print (deaths.head(),'\\n',len(deaths))"
   ]
  },
  {
   "cell_type": "code",
   "execution_count": 7,
   "metadata": {},
   "outputs": [],
   "source": [
    "# distance calculation\n",
    "def get_dist(df):\n",
    "    dist = []\n",
    "    for row in df.itertuples():\n",
    "        subset = (row.killer_position_x - row.victim_position_x)**2 + (row.killer_position_y - row.victim_position_y)**2\n",
    "        if subset > 0:\n",
    "            dist.append(math.sqrt(subset) / 100)\n",
    "        else:\n",
    "            dist.append(0)\n",
    "    return dist"
   ]
  },
  {
   "cell_type": "code",
   "execution_count": 8,
   "metadata": {},
   "outputs": [
    {
     "ename": "NameError",
     "evalue": "name 'erangel' is not defined",
     "output_type": "error",
     "traceback": [
      "\u001b[0;31m---------------------------------------------------------------------------\u001b[0m",
      "\u001b[0;31mNameError\u001b[0m                                 Traceback (most recent call last)",
      "\u001b[0;32m<ipython-input-8-3ff106d3b7e2>\u001b[0m in \u001b[0;36m<module>\u001b[0;34m()\u001b[0m\n\u001b[0;32m----> 1\u001b[0;31m \u001b[0mdf_dist\u001b[0m \u001b[0;34m=\u001b[0m \u001b[0mpd\u001b[0m\u001b[0;34m.\u001b[0m\u001b[0mDataFrame\u001b[0m\u001b[0;34m.\u001b[0m\u001b[0mfrom_dict\u001b[0m\u001b[0;34m(\u001b[0m\u001b[0;34m{\u001b[0m\u001b[0;34m'dist(m)'\u001b[0m\u001b[0;34m:\u001b[0m \u001b[0mget_dist\u001b[0m\u001b[0;34m(\u001b[0m\u001b[0merangel\u001b[0m\u001b[0;34m)\u001b[0m\u001b[0;34m}\u001b[0m\u001b[0;34m)\u001b[0m\u001b[0;34m\u001b[0m\u001b[0m\n\u001b[0m\u001b[1;32m      2\u001b[0m \u001b[0mdf_dist\u001b[0m\u001b[0;34m.\u001b[0m\u001b[0mindex\u001b[0m \u001b[0;34m=\u001b[0m \u001b[0merangel\u001b[0m\u001b[0;34m.\u001b[0m\u001b[0mindex\u001b[0m\u001b[0;34m\u001b[0m\u001b[0m\n",
      "\u001b[0;31mNameError\u001b[0m: name 'erangel' is not defined"
     ]
    }
   ],
   "source": [
    "df_dist = pd.DataFrame.from_dict({'dist(m)': get_dist(erangel)})\n",
    "df_dist.index = erangel.index"
   ]
  },
  {
   "cell_type": "code",
   "execution_count": null,
   "metadata": {},
   "outputs": [],
   "source": []
  }
 ],
 "metadata": {
  "kernelspec": {
   "display_name": "Python 3",
   "language": "python",
   "name": "python3"
  },
  "language_info": {
   "codemirror_mode": {
    "name": "ipython",
    "version": 3
   },
   "file_extension": ".py",
   "mimetype": "text/x-python",
   "name": "python",
   "nbconvert_exporter": "python",
   "pygments_lexer": "ipython3",
   "version": "3.6.6"
  }
 },
 "nbformat": 4,
 "nbformat_minor": 2
}
